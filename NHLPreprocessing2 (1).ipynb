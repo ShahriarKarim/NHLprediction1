{
  "cells": [
    {
      "cell_type": "markdown",
      "metadata": {
        "id": "GqmLL1n3Vx7U"
      },
      "source": [
        "# Basic Data PreProcessing"
      ]
    },
    {
      "cell_type": "code",
      "execution_count": null,
      "metadata": {
        "id": "2_CiIVCGVx7Y"
      },
      "outputs": [],
      "source": [
        "import pandas as pd\n",
        "\n",
        "# Load the datasets\n",
        "nba_data = pd.read_csv('nhl__season_data.csv.csv')\n",
        "player_mvp_stats = pd.read_csv('skaters_nhl_data.csv')\n"
      ]
    },
    {
      "cell_type": "code",
      "execution_count": null,
      "metadata": {
        "id": "nkjHw0B6Vx7Z"
      },
      "outputs": [],
      "source": [
        "team_mapping = {\n",
        "    'ANA': 'ANA', 'BOS': 'BOS', 'CGY': 'CGY', 'DET': 'DET', 'EDM': 'EDM', 'FLA': 'FLA', 'LAK': 'LAK', 'MTL': 'MTL',\n",
        "    'NYR': 'NYR', 'OTT': 'OTT', 'PHI': 'PHI', 'PIT': 'PIT', 'SJS': 'SJS', 'TBL': 'TBL', 'TOR': 'TOR', 'VAN': 'VAN'\n",
        "}\n"
      ]
    },
    {
      "cell_type": "code",
      "execution_count": null,
      "metadata": {
        "id": "zwSJN52VVx7a"
      },
      "outputs": [],
      "source": [
        "player_mvp_stats['Tm'] = player_mvp_stats['Tm'].map(team_mapping)\n"
      ]
    },
    {
      "cell_type": "code",
      "execution_count": null,
      "metadata": {
        "id": "5yxN3S9BVx7a"
      },
      "outputs": [],
      "source": [
        "combined_data = pd.merge(nba_data, player_mvp_stats, left_on='team', right_on='Tm', how='inner')\n"
      ]
    },
    {
      "cell_type": "code",
      "execution_count": null,
      "metadata": {
        "id": "TYwSDVNKVx7b",
        "colab": {
          "base_uri": "https://localhost:8080/",
          "height": 342
        },
        "outputId": "894122b2-6fa6-4813-8a98-ca11bc17373c"
      },
      "outputs": [
        {
          "output_type": "execute_result",
          "data": {
            "text/plain": [
              "         date team team_opp  goals_scored  goals_scored_opp  shots_on_goal  \\\n",
              "0  2021-01-13  EDM      FLA             3                 5             33   \n",
              "1  2021-01-13  EDM      FLA             3                 5             33   \n",
              "2  2021-01-13  EDM      FLA             3                 5             33   \n",
              "3  2021-01-13  EDM      FLA             3                 5             33   \n",
              "4  2021-01-13  EDM      FLA             3                 5             33   \n",
              "\n",
              "   shots_on_goal_opp  power_play_goals  penalty_kill_goals  \\\n",
              "0                 21                 0                   0   \n",
              "1                 21                 0                   0   \n",
              "2                 21                 0                   0   \n",
              "3                 21                 0                   0   \n",
              "4                 21                 0                   0   \n",
              "\n",
              "   faceoff_win_percentage  ...  OffIce_F_xGoals  OffIce_A_xGoals  \\\n",
              "0                    42.8  ...             3.78             3.56   \n",
              "1                    42.8  ...           108.26           104.20   \n",
              "2                    42.8  ...            78.87            74.04   \n",
              "3                    42.8  ...             0.00             0.00   \n",
              "4                    42.8  ...            12.70             1.08   \n",
              "\n",
              "   OffIce_F_shotAttempts  OffIce_A_shotAttempts  xGoalsForAfterShifts  \\\n",
              "0                     22                     36                  0.00   \n",
              "1                   1819                   2098                  0.00   \n",
              "2                   1596                   1633                  0.69   \n",
              "3                      0                      0                  0.00   \n",
              "4                    121                     18                  0.00   \n",
              "\n",
              "   xGoalsAgainstAfterShifts  corsiForAfterShifts  corsiAgainstAfterShifts  \\\n",
              "0                      0.00                    0                        0   \n",
              "1                      0.00                    0                        0   \n",
              "2                      0.94                   13                       28   \n",
              "3                      0.00                    0                        0   \n",
              "4                      0.26                    0                        2   \n",
              "\n",
              "  fenwickForAfterShifts fenwickAgainstAfterShifts  \n",
              "0                     0                         0  \n",
              "1                     0                         0  \n",
              "2                    10                        19  \n",
              "3                     0                         0  \n",
              "4                     0                         2  \n",
              "\n",
              "[5 rows x 170 columns]"
            ],
            "text/html": [
              "\n",
              "  <div id=\"df-7039ebb0-50ce-4705-b9fd-f3d5a99cc810\" class=\"colab-df-container\">\n",
              "    <div>\n",
              "<style scoped>\n",
              "    .dataframe tbody tr th:only-of-type {\n",
              "        vertical-align: middle;\n",
              "    }\n",
              "\n",
              "    .dataframe tbody tr th {\n",
              "        vertical-align: top;\n",
              "    }\n",
              "\n",
              "    .dataframe thead th {\n",
              "        text-align: right;\n",
              "    }\n",
              "</style>\n",
              "<table border=\"1\" class=\"dataframe\">\n",
              "  <thead>\n",
              "    <tr style=\"text-align: right;\">\n",
              "      <th></th>\n",
              "      <th>date</th>\n",
              "      <th>team</th>\n",
              "      <th>team_opp</th>\n",
              "      <th>goals_scored</th>\n",
              "      <th>goals_scored_opp</th>\n",
              "      <th>shots_on_goal</th>\n",
              "      <th>shots_on_goal_opp</th>\n",
              "      <th>power_play_goals</th>\n",
              "      <th>penalty_kill_goals</th>\n",
              "      <th>faceoff_win_percentage</th>\n",
              "      <th>...</th>\n",
              "      <th>OffIce_F_xGoals</th>\n",
              "      <th>OffIce_A_xGoals</th>\n",
              "      <th>OffIce_F_shotAttempts</th>\n",
              "      <th>OffIce_A_shotAttempts</th>\n",
              "      <th>xGoalsForAfterShifts</th>\n",
              "      <th>xGoalsAgainstAfterShifts</th>\n",
              "      <th>corsiForAfterShifts</th>\n",
              "      <th>corsiAgainstAfterShifts</th>\n",
              "      <th>fenwickForAfterShifts</th>\n",
              "      <th>fenwickAgainstAfterShifts</th>\n",
              "    </tr>\n",
              "  </thead>\n",
              "  <tbody>\n",
              "    <tr>\n",
              "      <th>0</th>\n",
              "      <td>2021-01-13</td>\n",
              "      <td>EDM</td>\n",
              "      <td>FLA</td>\n",
              "      <td>3</td>\n",
              "      <td>5</td>\n",
              "      <td>33</td>\n",
              "      <td>21</td>\n",
              "      <td>0</td>\n",
              "      <td>0</td>\n",
              "      <td>42.8</td>\n",
              "      <td>...</td>\n",
              "      <td>3.78</td>\n",
              "      <td>3.56</td>\n",
              "      <td>22</td>\n",
              "      <td>36</td>\n",
              "      <td>0.00</td>\n",
              "      <td>0.00</td>\n",
              "      <td>0</td>\n",
              "      <td>0</td>\n",
              "      <td>0</td>\n",
              "      <td>0</td>\n",
              "    </tr>\n",
              "    <tr>\n",
              "      <th>1</th>\n",
              "      <td>2021-01-13</td>\n",
              "      <td>EDM</td>\n",
              "      <td>FLA</td>\n",
              "      <td>3</td>\n",
              "      <td>5</td>\n",
              "      <td>33</td>\n",
              "      <td>21</td>\n",
              "      <td>0</td>\n",
              "      <td>0</td>\n",
              "      <td>42.8</td>\n",
              "      <td>...</td>\n",
              "      <td>108.26</td>\n",
              "      <td>104.20</td>\n",
              "      <td>1819</td>\n",
              "      <td>2098</td>\n",
              "      <td>0.00</td>\n",
              "      <td>0.00</td>\n",
              "      <td>0</td>\n",
              "      <td>0</td>\n",
              "      <td>0</td>\n",
              "      <td>0</td>\n",
              "    </tr>\n",
              "    <tr>\n",
              "      <th>2</th>\n",
              "      <td>2021-01-13</td>\n",
              "      <td>EDM</td>\n",
              "      <td>FLA</td>\n",
              "      <td>3</td>\n",
              "      <td>5</td>\n",
              "      <td>33</td>\n",
              "      <td>21</td>\n",
              "      <td>0</td>\n",
              "      <td>0</td>\n",
              "      <td>42.8</td>\n",
              "      <td>...</td>\n",
              "      <td>78.87</td>\n",
              "      <td>74.04</td>\n",
              "      <td>1596</td>\n",
              "      <td>1633</td>\n",
              "      <td>0.69</td>\n",
              "      <td>0.94</td>\n",
              "      <td>13</td>\n",
              "      <td>28</td>\n",
              "      <td>10</td>\n",
              "      <td>19</td>\n",
              "    </tr>\n",
              "    <tr>\n",
              "      <th>3</th>\n",
              "      <td>2021-01-13</td>\n",
              "      <td>EDM</td>\n",
              "      <td>FLA</td>\n",
              "      <td>3</td>\n",
              "      <td>5</td>\n",
              "      <td>33</td>\n",
              "      <td>21</td>\n",
              "      <td>0</td>\n",
              "      <td>0</td>\n",
              "      <td>42.8</td>\n",
              "      <td>...</td>\n",
              "      <td>0.00</td>\n",
              "      <td>0.00</td>\n",
              "      <td>0</td>\n",
              "      <td>0</td>\n",
              "      <td>0.00</td>\n",
              "      <td>0.00</td>\n",
              "      <td>0</td>\n",
              "      <td>0</td>\n",
              "      <td>0</td>\n",
              "      <td>0</td>\n",
              "    </tr>\n",
              "    <tr>\n",
              "      <th>4</th>\n",
              "      <td>2021-01-13</td>\n",
              "      <td>EDM</td>\n",
              "      <td>FLA</td>\n",
              "      <td>3</td>\n",
              "      <td>5</td>\n",
              "      <td>33</td>\n",
              "      <td>21</td>\n",
              "      <td>0</td>\n",
              "      <td>0</td>\n",
              "      <td>42.8</td>\n",
              "      <td>...</td>\n",
              "      <td>12.70</td>\n",
              "      <td>1.08</td>\n",
              "      <td>121</td>\n",
              "      <td>18</td>\n",
              "      <td>0.00</td>\n",
              "      <td>0.26</td>\n",
              "      <td>0</td>\n",
              "      <td>2</td>\n",
              "      <td>0</td>\n",
              "      <td>2</td>\n",
              "    </tr>\n",
              "  </tbody>\n",
              "</table>\n",
              "<p>5 rows × 170 columns</p>\n",
              "</div>\n",
              "    <div class=\"colab-df-buttons\">\n",
              "\n",
              "  <div class=\"colab-df-container\">\n",
              "    <button class=\"colab-df-convert\" onclick=\"convertToInteractive('df-7039ebb0-50ce-4705-b9fd-f3d5a99cc810')\"\n",
              "            title=\"Convert this dataframe to an interactive table.\"\n",
              "            style=\"display:none;\">\n",
              "\n",
              "  <svg xmlns=\"http://www.w3.org/2000/svg\" height=\"24px\" viewBox=\"0 -960 960 960\">\n",
              "    <path d=\"M120-120v-720h720v720H120Zm60-500h600v-160H180v160Zm220 220h160v-160H400v160Zm0 220h160v-160H400v160ZM180-400h160v-160H180v160Zm440 0h160v-160H620v160ZM180-180h160v-160H180v160Zm440 0h160v-160H620v160Z\"/>\n",
              "  </svg>\n",
              "    </button>\n",
              "\n",
              "  <style>\n",
              "    .colab-df-container {\n",
              "      display:flex;\n",
              "      gap: 12px;\n",
              "    }\n",
              "\n",
              "    .colab-df-convert {\n",
              "      background-color: #E8F0FE;\n",
              "      border: none;\n",
              "      border-radius: 50%;\n",
              "      cursor: pointer;\n",
              "      display: none;\n",
              "      fill: #1967D2;\n",
              "      height: 32px;\n",
              "      padding: 0 0 0 0;\n",
              "      width: 32px;\n",
              "    }\n",
              "\n",
              "    .colab-df-convert:hover {\n",
              "      background-color: #E2EBFA;\n",
              "      box-shadow: 0px 1px 2px rgba(60, 64, 67, 0.3), 0px 1px 3px 1px rgba(60, 64, 67, 0.15);\n",
              "      fill: #174EA6;\n",
              "    }\n",
              "\n",
              "    .colab-df-buttons div {\n",
              "      margin-bottom: 4px;\n",
              "    }\n",
              "\n",
              "    [theme=dark] .colab-df-convert {\n",
              "      background-color: #3B4455;\n",
              "      fill: #D2E3FC;\n",
              "    }\n",
              "\n",
              "    [theme=dark] .colab-df-convert:hover {\n",
              "      background-color: #434B5C;\n",
              "      box-shadow: 0px 1px 3px 1px rgba(0, 0, 0, 0.15);\n",
              "      filter: drop-shadow(0px 1px 2px rgba(0, 0, 0, 0.3));\n",
              "      fill: #FFFFFF;\n",
              "    }\n",
              "  </style>\n",
              "\n",
              "    <script>\n",
              "      const buttonEl =\n",
              "        document.querySelector('#df-7039ebb0-50ce-4705-b9fd-f3d5a99cc810 button.colab-df-convert');\n",
              "      buttonEl.style.display =\n",
              "        google.colab.kernel.accessAllowed ? 'block' : 'none';\n",
              "\n",
              "      async function convertToInteractive(key) {\n",
              "        const element = document.querySelector('#df-7039ebb0-50ce-4705-b9fd-f3d5a99cc810');\n",
              "        const dataTable =\n",
              "          await google.colab.kernel.invokeFunction('convertToInteractive',\n",
              "                                                    [key], {});\n",
              "        if (!dataTable) return;\n",
              "\n",
              "        const docLinkHtml = 'Like what you see? Visit the ' +\n",
              "          '<a target=\"_blank\" href=https://colab.research.google.com/notebooks/data_table.ipynb>data table notebook</a>'\n",
              "          + ' to learn more about interactive tables.';\n",
              "        element.innerHTML = '';\n",
              "        dataTable['output_type'] = 'display_data';\n",
              "        await google.colab.output.renderOutput(dataTable, element);\n",
              "        const docLink = document.createElement('div');\n",
              "        docLink.innerHTML = docLinkHtml;\n",
              "        element.appendChild(docLink);\n",
              "      }\n",
              "    </script>\n",
              "  </div>\n",
              "\n",
              "\n",
              "<div id=\"df-d8546ae1-04f7-4299-a702-8c128d3fa251\">\n",
              "  <button class=\"colab-df-quickchart\" onclick=\"quickchart('df-d8546ae1-04f7-4299-a702-8c128d3fa251')\"\n",
              "            title=\"Suggest charts\"\n",
              "            style=\"display:none;\">\n",
              "\n",
              "<svg xmlns=\"http://www.w3.org/2000/svg\" height=\"24px\"viewBox=\"0 0 24 24\"\n",
              "     width=\"24px\">\n",
              "    <g>\n",
              "        <path d=\"M19 3H5c-1.1 0-2 .9-2 2v14c0 1.1.9 2 2 2h14c1.1 0 2-.9 2-2V5c0-1.1-.9-2-2-2zM9 17H7v-7h2v7zm4 0h-2V7h2v10zm4 0h-2v-4h2v4z\"/>\n",
              "    </g>\n",
              "</svg>\n",
              "  </button>\n",
              "\n",
              "<style>\n",
              "  .colab-df-quickchart {\n",
              "      --bg-color: #E8F0FE;\n",
              "      --fill-color: #1967D2;\n",
              "      --hover-bg-color: #E2EBFA;\n",
              "      --hover-fill-color: #174EA6;\n",
              "      --disabled-fill-color: #AAA;\n",
              "      --disabled-bg-color: #DDD;\n",
              "  }\n",
              "\n",
              "  [theme=dark] .colab-df-quickchart {\n",
              "      --bg-color: #3B4455;\n",
              "      --fill-color: #D2E3FC;\n",
              "      --hover-bg-color: #434B5C;\n",
              "      --hover-fill-color: #FFFFFF;\n",
              "      --disabled-bg-color: #3B4455;\n",
              "      --disabled-fill-color: #666;\n",
              "  }\n",
              "\n",
              "  .colab-df-quickchart {\n",
              "    background-color: var(--bg-color);\n",
              "    border: none;\n",
              "    border-radius: 50%;\n",
              "    cursor: pointer;\n",
              "    display: none;\n",
              "    fill: var(--fill-color);\n",
              "    height: 32px;\n",
              "    padding: 0;\n",
              "    width: 32px;\n",
              "  }\n",
              "\n",
              "  .colab-df-quickchart:hover {\n",
              "    background-color: var(--hover-bg-color);\n",
              "    box-shadow: 0 1px 2px rgba(60, 64, 67, 0.3), 0 1px 3px 1px rgba(60, 64, 67, 0.15);\n",
              "    fill: var(--button-hover-fill-color);\n",
              "  }\n",
              "\n",
              "  .colab-df-quickchart-complete:disabled,\n",
              "  .colab-df-quickchart-complete:disabled:hover {\n",
              "    background-color: var(--disabled-bg-color);\n",
              "    fill: var(--disabled-fill-color);\n",
              "    box-shadow: none;\n",
              "  }\n",
              "\n",
              "  .colab-df-spinner {\n",
              "    border: 2px solid var(--fill-color);\n",
              "    border-color: transparent;\n",
              "    border-bottom-color: var(--fill-color);\n",
              "    animation:\n",
              "      spin 1s steps(1) infinite;\n",
              "  }\n",
              "\n",
              "  @keyframes spin {\n",
              "    0% {\n",
              "      border-color: transparent;\n",
              "      border-bottom-color: var(--fill-color);\n",
              "      border-left-color: var(--fill-color);\n",
              "    }\n",
              "    20% {\n",
              "      border-color: transparent;\n",
              "      border-left-color: var(--fill-color);\n",
              "      border-top-color: var(--fill-color);\n",
              "    }\n",
              "    30% {\n",
              "      border-color: transparent;\n",
              "      border-left-color: var(--fill-color);\n",
              "      border-top-color: var(--fill-color);\n",
              "      border-right-color: var(--fill-color);\n",
              "    }\n",
              "    40% {\n",
              "      border-color: transparent;\n",
              "      border-right-color: var(--fill-color);\n",
              "      border-top-color: var(--fill-color);\n",
              "    }\n",
              "    60% {\n",
              "      border-color: transparent;\n",
              "      border-right-color: var(--fill-color);\n",
              "    }\n",
              "    80% {\n",
              "      border-color: transparent;\n",
              "      border-right-color: var(--fill-color);\n",
              "      border-bottom-color: var(--fill-color);\n",
              "    }\n",
              "    90% {\n",
              "      border-color: transparent;\n",
              "      border-bottom-color: var(--fill-color);\n",
              "    }\n",
              "  }\n",
              "</style>\n",
              "\n",
              "  <script>\n",
              "    async function quickchart(key) {\n",
              "      const quickchartButtonEl =\n",
              "        document.querySelector('#' + key + ' button');\n",
              "      quickchartButtonEl.disabled = true;  // To prevent multiple clicks.\n",
              "      quickchartButtonEl.classList.add('colab-df-spinner');\n",
              "      try {\n",
              "        const charts = await google.colab.kernel.invokeFunction(\n",
              "            'suggestCharts', [key], {});\n",
              "      } catch (error) {\n",
              "        console.error('Error during call to suggestCharts:', error);\n",
              "      }\n",
              "      quickchartButtonEl.classList.remove('colab-df-spinner');\n",
              "      quickchartButtonEl.classList.add('colab-df-quickchart-complete');\n",
              "    }\n",
              "    (() => {\n",
              "      let quickchartButtonEl =\n",
              "        document.querySelector('#df-d8546ae1-04f7-4299-a702-8c128d3fa251 button');\n",
              "      quickchartButtonEl.style.display =\n",
              "        google.colab.kernel.accessAllowed ? 'block' : 'none';\n",
              "    })();\n",
              "  </script>\n",
              "</div>\n",
              "    </div>\n",
              "  </div>\n"
            ],
            "application/vnd.google.colaboratory.intrinsic+json": {
              "type": "dataframe",
              "variable_name": "combined_data"
            }
          },
          "metadata": {},
          "execution_count": 5
        }
      ],
      "source": [
        "combined_data.head()\n"
      ]
    },
    {
      "cell_type": "code",
      "execution_count": null,
      "metadata": {
        "id": "s0yWKd8aVx7c",
        "colab": {
          "base_uri": "https://localhost:8080/"
        },
        "outputId": "d5662c08-fa24-440d-932f-27e911d962f1"
      },
      "outputs": [
        {
          "output_type": "stream",
          "name": "stdout",
          "text": [
            "               Player   Tm\n",
            "0       Alex Chiasson  EDM\n",
            "1       Alex Chiasson  EDM\n",
            "2       Alex Chiasson  EDM\n",
            "3       Alex Chiasson  EDM\n",
            "4       Alex Chiasson  EDM\n",
            "...               ...  ...\n",
            "29935  Joel Edmundson  MTL\n",
            "29936  Joel Edmundson  MTL\n",
            "29937  Joel Edmundson  MTL\n",
            "29938  Joel Edmundson  MTL\n",
            "29939  Joel Edmundson  MTL\n",
            "\n",
            "[29940 rows x 2 columns]\n"
          ]
        }
      ],
      "source": [
        "# Select and display only the 'Player' and 'Tm' columns\n",
        "player_and_team_data = combined_data[['Player', 'Tm']]\n",
        "print(player_and_team_data)\n"
      ]
    },
    {
      "cell_type": "code",
      "execution_count": null,
      "metadata": {
        "id": "PIm2kD_8Vx7d",
        "colab": {
          "base_uri": "https://localhost:8080/"
        },
        "outputId": "a1319d5b-9d2b-4159-ce4d-82280ec66e36"
      },
      "outputs": [
        {
          "output_type": "stream",
          "name": "stdout",
          "text": [
            "      team team_opp\n",
            "0      EDM      FLA\n",
            "1      EDM      FLA\n",
            "2      EDM      FLA\n",
            "3      EDM      FLA\n",
            "4      EDM      FLA\n",
            "...    ...      ...\n",
            "29935  MTL      VAN\n",
            "29936  MTL      VAN\n",
            "29937  MTL      VAN\n",
            "29938  MTL      VAN\n",
            "29939  MTL      VAN\n",
            "\n",
            "[29940 rows x 2 columns]\n"
          ]
        }
      ],
      "source": [
        "# Select and display only the 'team' and 'team_opp' columns\n",
        "team_and_team_opp_data = combined_data[['team', 'team_opp']]\n",
        "print(team_and_team_opp_data)\n"
      ]
    },
    {
      "cell_type": "markdown",
      "metadata": {
        "id": "ZbtbYTUEVx7d"
      },
      "source": [
        "# Adding Weights"
      ]
    },
    {
      "cell_type": "code",
      "execution_count": null,
      "metadata": {
        "id": "qWHruKi5Vx7d",
        "colab": {
          "base_uri": "https://localhost:8080/"
        },
        "outputId": "6675410c-c414-4cf3-c58f-9ba47590dcbb"
      },
      "outputs": [
        {
          "output_type": "stream",
          "name": "stdout",
          "text": [
            "['Alex Chiasson' 'Ryan McLeod' 'Connor McDavid' 'Tyler Ennis'\n",
            " 'Ryan Nugent-Hopkins' 'Ethan Bear' 'Patrick Russell' 'William Lagesson'\n",
            " 'Caleb Jones' 'Dominik Kahun' 'Dmitry Kulikov' 'Evan Bouchard'\n",
            " 'Zack Kassian' 'Leon Draisaitl' 'Kris Russell' 'Jujhar Khaira'\n",
            " 'Joakim Nygard' 'James Neal' 'Slater Koekkoek' 'Devin Shore'\n",
            " 'Adam Larsson' 'Tyson Barrie' 'Darnell Nurse' 'Josh Archibald'\n",
            " 'Jesse Puljujarvi' 'Gaetan Haas' 'Kailer Yamamoto' 'Kyle Turris'\n",
            " 'Nikita Gusev' 'MacKenzie Weegar' 'Alex Wennberg' 'Brandon Montour'\n",
            " 'Radko Gudas' 'Brady Keeper' 'Kevin Connauton' 'Eetu Luostarinen'\n",
            " 'Mason Marchment' 'Juho Lammikko' 'Aleksi Heponiemi' 'Noah Juulsen'\n",
            " 'Patric Hornqvist' 'Owen Tippett' 'Aleksander Barkov' 'Anthony Duclair'\n",
            " 'Gustav Forsling' 'Noel Acciari' 'Matt Kiersted' 'Lucas Wallmark'\n",
            " 'Ryan Lomberg' 'Carter Verhaeghe' 'Sam Bennett' 'Frank Vatrano'\n",
            " 'Anton Stralman' 'Grigori Denisenko' 'Keith Yandle' 'Aaron Ekblad'\n",
            " 'Markus Nutivaara' 'Jonathan Huberdeau' 'Par Lindholm' 'Brandon Carlo'\n",
            " 'Jakub Zboril' 'Nick Ritchie' 'Jack Ahcan' 'David Krejci' 'Sean Kuraly'\n",
            " 'Steven Kampfer' 'Kevan Miller' 'Patrice Bergeron' 'Taylor Hall'\n",
            " 'Jeremy Lauzon' 'Jack Studnicka' 'Anton Blidh' 'Jake DeBrusk'\n",
            " 'Greg McKegg' 'Zach Senyshyn' 'Chris Wagner' 'Cameron Hughes'\n",
            " 'Craig Smith' 'Ondrej Kase' 'Jarred Tinordi' 'Brad Marchand'\n",
            " 'Curtis Lazar' 'Karson Kuhlman' 'John Moore' 'Connor Clifton'\n",
            " 'Charlie Coyle' 'Oskar Steen' 'David Pastrnak' 'Matt Grzelcyk'\n",
            " 'Trent Frederic' 'Mike Reilly' 'Charlie McAvoy' 'Urho Vaakanainen'\n",
            " 'Tim Gettinger' 'Anthony Bitetto' 'Adam Fox' 'Ryan Lindgren'\n",
            " 'Jack Johnson' 'Libor Hajek' 'Pavel Buchnevich' 'Zac Jones'\n",
            " 'Brett Howden' 'Alexis Lafreniere' 'Vitali Kravtsov' 'Mika Zibanejad'\n",
            " 'Kevin Rooney' 'Phillip Di Giuseppe' 'Colin Blackwell' 'Justin Richards'\n",
            " 'Morgan Barron' 'Julien Gauthier' 'Chris Kreider' 'Tony DeAngelo'\n",
            " 'Ryan Strome' 'Artemi Panarin' 'Jonny Brodzinski' 'Brendan Smith'\n",
            " 'Jacob Trouba' 'Tarmo Reunanen' 'Filip Chytil' 'Kaapo Kakko'\n",
            " \"K'Andre Miller\" 'Travis Sanheim' 'Jackson Cates' 'Scott Laughton'\n",
            " 'Justin Braun' 'Tanner Laczynski' 'Philippe Myers' 'Cam York'\n",
            " 'Ivan Provorov' 'Robert Hagg' 'David Kase' 'Samuel Morin' 'Claude Giroux'\n",
            " 'Sean Couturier' 'Joel Farabee' 'Nate Prosser' 'Jakub Voracek'\n",
            " 'Maksim Sushko' 'Shayne Gostisbehere' 'Travis Konecny' 'Wade Allison'\n",
            " 'Nolan Patrick' 'James van Riemsdyk' 'Kevin Hayes' 'Oskar Lindblom'\n",
            " 'Egor Zamula' 'Connor Bunnaman' 'Andy Andreoff' 'Carsen Twarynski'\n",
            " 'Morgan Frost' 'Nicolas Aube-Kubel' 'Evgenii Dadonov' 'Logan Brown'\n",
            " 'Connor Brown' 'Josh Brown' 'Thomas Chabot' 'Parker Kelly'\n",
            " 'Micheal Haley' 'Filip Chlapik' 'Olle Alsing' 'Josh Norris'\n",
            " 'Nikita Zaitsev' 'Artem Zub' 'Victor Mete' 'Ryan Dzingel'\n",
            " 'Artem Anisimov' 'Michael Amadio' 'Drake Batherson'\n",
            " 'Jacob Bernard-Docker' 'Clark Bishop' 'Alex Formenton' 'Brady Tkachuk'\n",
            " 'Austin Watson' 'Tim Stutzle' 'Chris Tierney' 'Erik Brannstrom'\n",
            " 'Derek Stepan' 'Nick Paul' 'Colin White' 'Vitaly Abramov' 'Matthew Peca'\n",
            " 'Shane Pinto' 'Nate Schmidt' 'Jake Virtanen' 'Jalen Chatfield'\n",
            " 'Brogan Rafferty' 'Travis Boyd' 'Brandon Sutter' 'Tyler Myers'\n",
            " 'J.T. Miller' 'William Lockwood' 'Jayce Hawryluk' 'Loui Eriksson'\n",
            " 'Justin Bailey' 'Brock Boeser' 'Travis Hamonic' 'Bo Horvat'\n",
            " 'Matthew Highmore' 'Marc Michaelis' 'Jonah Gadjovich' 'Tyler Motte'\n",
            " 'Nils Hoglander' 'Jack Rathbone' 'Tanner Pearson' 'Alexander Edler'\n",
            " 'Guillaume Brisebois' 'Kole Lind' 'Tyler Graovac' 'Jay Beagle'\n",
            " 'Zack MacEwen' 'Jimmy Vesey' 'Quinn Hughes' 'Elias Pettersson'\n",
            " 'Olli Juolevi' 'Antoine Roussel' 'Buddy Robinson' 'Oliver Kylington'\n",
            " 'Mikael Backlund' 'Andrew Mangiapane' 'Joakim Nordstrom'\n",
            " 'Johnny Gaudreau' 'Elias Lindholm' 'Glenn Gawdin' 'Dillon Dube'\n",
            " 'Matthew Tkachuk' 'Nikita Nesterov' 'Zac Rinaldo' 'Rasmus Andersson'\n",
            " 'Milan Lucic' 'Josh Leivo' 'Connor Mackey' 'Mark Giordano'\n",
            " 'Michael Stone' 'Matthew Phillips' 'Sean Monahan' 'Brett Ritchie'\n",
            " 'Dominik Simon' 'Noah Hanifin' 'Juuso Valimaki' 'Byron Froese'\n",
            " 'Christopher Tanev' 'Adam Ruzicka' 'Derek Ryan' 'Juuso Riikola'\n",
            " 'Mark Jankowski' 'Jeff Carter' 'Brian Dumoulin' 'Frederick Gaudreau'\n",
            " 'Jared McCann' 'Sam Lafferty' 'Jason Zucker' 'Kasperi Kapanen'\n",
            " 'Yannick Weber' 'Colton Sceviour' 'Josh Currie' 'Mark Friedman'\n",
            " 'Cody Ceci' 'Evan Rodrigues' 'Mike Matheson' 'Jake Guentzel'\n",
            " 'Evgeni Malkin' 'Zach Aston-Reese' 'Kevin Czuczman' \"Drew O'Connor\"\n",
            " 'Sidney Crosby' 'Marcus Pettersson' 'Kris Letang' 'John Marino'\n",
            " 'Radim Zohorna' 'Bryan Rust' 'Teddy Blueger' 'Pierre-Olivier Joseph'\n",
            " 'Chad Ruhwedel' 'Brandon Tanev' 'Anthony Angello' 'Frans Nielsen'\n",
            " 'Troy Stecher' 'Christian Djoos' 'Richard Panik' 'Darren Helm'\n",
            " 'Alex Biega' 'Joe Veleno' 'Filip Zadina' 'Mathias Brome' 'Danny DeKeyser'\n",
            " 'Evgeny Svechnikov' 'Filip Hronek' 'Valtteri Filppula' 'Gustav Lindstrom'\n",
            " 'Givani Smith' 'Dylan Larkin' 'Dennis Cholowski' 'Vladislav Namestnikov'\n",
            " 'Sam Gagner' 'Taro Hirose' 'Adam Erne' 'Tyler Bertuzzi' 'Robby Fabbri'\n",
            " 'Marc Staal' 'Jakub Vrana' 'Michael Rasmussen' 'Bobby Ryan'\n",
            " 'Luke Glendening' 'John Tavares' 'Adam Brooks' 'Morgan Rielly'\n",
            " 'Jason Spezza' 'William Nylander' 'Zach Hyman' 'Ben Hutton'\n",
            " 'Joey Anderson' 'Wayne Simmonds' 'Rasmus Sandin' 'Timothy Liljegren'\n",
            " 'Auston Matthews' 'Nic Petan' 'TJ Brodie' 'Travis Dermott'\n",
            " 'Mitchell Marner' 'Pierre Engvall' 'Alex Galchenyuk' 'Nick Foligno'\n",
            " 'Justin Holl' 'Zach Bogosian' 'Jake Muzzin' 'Joe Thornton'\n",
            " 'Scott Sabourin' 'Kenny Agostino' 'Stefan Noesen' 'Ilya Mikheyev'\n",
            " 'Alexander Kerfoot' 'Nicholas Robertson' 'Sam Carrick' 'Alexander Volkov'\n",
            " 'Troy Terry' 'Andrew Agozzino' 'Carter Rowney' 'Haydn Fleury'\n",
            " 'Jamie Drysdale' 'Cam Fowler' 'David Backes' 'Sam Steel' 'Vinni Lettieri'\n",
            " 'Sonny Milano' 'Max Jones' 'Adam Henrique' 'Isac Lundestrom'\n",
            " 'Trevor Zegras' 'Josh Mahura' 'Jakob Silfverberg' 'Chase De Leo'\n",
            " 'Simon Benoit' 'Danton Heinen' 'Rickard Rakell' 'Derek Grant'\n",
            " 'Josh Manson' 'Kevin Shattenkirk' 'Max Comtois' 'Jacob Larsson'\n",
            " 'Hampus Lindholm' 'Andy Welinski' 'Nicolas Deslauriers' 'Ryan Getzlaf'\n",
            " 'Phillip Danault' 'Alexander Romanov' 'Michael Frolik' 'Joel Armia'\n",
            " 'Jesperi Kotkaniemi' 'Nick Suzuki' 'Cole Caufield' 'Xavier Ouellet'\n",
            " 'Eric Staal' 'Alex Belzile' 'Josh Anderson' 'Jake Evans'\n",
            " 'Jonathan Drouin' 'Shea Weber' 'Erik Gustafsson' 'Tomas Tatar'\n",
            " 'Corey Perry' 'Paul Byron' 'Brendan Gallagher' 'Otto Leskinen'\n",
            " 'Brett Kulak' 'Jesse Ylonen' 'Tyler Toffoli' 'Jon Merrill'\n",
            " 'Artturi Lehkonen' 'Jeff Petry' 'Ben Chiarot' 'Joel Edmundson']\n"
          ]
        }
      ],
      "source": [
        "# Get all player names\n",
        "\n",
        "unique_players = combined_data['Player'].unique()\n",
        "\n",
        "pd.set_option('display.max_rows', None)\n",
        "\n",
        "print(unique_players)\n",
        "\n",
        "pd.reset_option('display.max_rows')\n"
      ]
    },
    {
      "cell_type": "code",
      "execution_count": null,
      "metadata": {
        "id": "oLwKRAPrVx7e"
      },
      "outputs": [],
      "source": [
        "# Sample mapping of player names to their corresponding weights\n",
        "player_weights = {\n",
        "    'Connor McDavid': 0.98,\n",
        "    'Leon Draisaitl': 0.97,\n",
        "    'Nathan MacKinnon': 0.96,\n",
        "    'Auston Matthews': 0.96,\n",
        "    'David Pastrnak': 0.95,\n",
        "    'Cale Makar': 0.95,\n",
        "    'Alex Ovechkin': 0.94,\n",
        "    'Sidney Crosby': 0.94,\n",
        "    'Andrei Vasilevskiy': 0.93,\n",
        "    'Igor Shesterkin': 0.93,\n",
        "    'Victor Hedman': 0.92,\n",
        "    'Mikko Rantanen': 0.92,\n",
        "    'Brad Marchand': 0.91,\n",
        "    'Mitch Marner': 0.91,\n",
        "    'Patrick Kane': 0.90,\n",
        "    'Jonathan Huberdeau': 0.90,\n",
        "    'Artemi Panarin': 0.89,\n",
        "    'Adam Fox': 0.89,\n",
        "    'Jack Eichel': 0.88,\n",
        "    'Aleksander Barkov': 0.88,\n",
        "    'Kirill Kaprizov': 0.88,\n",
        "    'Matthew Tkachuk': 0.87,\n",
        "    'Steven Stamkos': 0.87,\n",
        "    'Roman Josi': 0.86,\n",
        "    'Mark Scheifele': 0.86,\n",
        "    'Sebastian Aho': 0.85,\n",
        "    'John Tavares': 0.85,\n",
        "    'Mika Zibanejad': 0.84,\n",
        "    'Kyle Connor': 0.84,\n",
        "    'Seth Jones': 0.83,\n",
        "    'Jake Guentzel': 0.83,\n",
        "    'Johnny Gaudreau': 0.82,\n",
        "    'Elias Pettersson': 0.82,\n",
        "    'Quinn Hughes': 0.81,\n",
        "    'Evgeni Malkin': 0.81,\n",
        "    'Ryan O Reilly': 0.80,\n",
        "    'Gabriel Landeskog': 0.80,\n",
        "    'Anze Kopitar': 0.79,\n",
        "    'Darnell Nurse': 0.79,\n",
        "    'Shea Theodore': 0.78,\n",
        "    'Tyler Seguin': 0.78,\n",
        "    'Brent Burns': 0.77,\n",
        "    'Patrik Laine': 0.77,\n",
        "    'Dougie Hamilton': 0.76,\n",
        "    'Pierre-Luc Dubois': 0.76,\n",
        "    'J.T. Miller': 0.75,\n",
        "    'Tomas Hertl': 0.75,\n",
        "    'William Nylander': 0.74,\n",
        "    'Alex Pietrangelo': 0.74,\n",
        "    'Zach Werenski': 0.73,\n",
        "    'Ryan Nugent-Hopkins': 0.73,\n",
        "    'Timo Meier': 0.72,\n",
        "    'Max Pacioretty': 0.72,\n",
        "    'Filip Forsberg': 0.71,\n",
        "    'Blake Wheeler': 0.71,\n",
        "    'John Carlson': 0.70,\n",
        "    'Kevin Fiala': 0.70,\n",
        "    'Nick Suzuki': 0.69,\n",
        "    'Brock Boeser': 0.69,\n",
        "    'Travis Konecny': 0.68,\n",
        "    'Anders Lee': 0.68,\n",
        "    'Dylan Larkin': 0.67,\n",
        "    'Sam Reinhart': 0.67\n",
        "}\n",
        "\n",
        "# Add player weights to combined_data\n",
        "combined_data['player_weight'] = combined_data['Player'].map(player_weights)\n"
      ]
    },
    {
      "cell_type": "code",
      "execution_count": null,
      "metadata": {
        "id": "46d_uad-Vx7f",
        "colab": {
          "base_uri": "https://localhost:8080/"
        },
        "outputId": "80d7913c-a84e-483b-ad94-2d66aed35a7b"
      },
      "outputs": [
        {
          "output_type": "stream",
          "name": "stdout",
          "text": [
            "               Player  player_weight\n",
            "0       Alex Chiasson            0.5\n",
            "1       Alex Chiasson            0.5\n",
            "2       Alex Chiasson            0.5\n",
            "3       Alex Chiasson            0.5\n",
            "4       Alex Chiasson            0.5\n",
            "...               ...            ...\n",
            "29935  Joel Edmundson            0.5\n",
            "29936  Joel Edmundson            0.5\n",
            "29937  Joel Edmundson            0.5\n",
            "29938  Joel Edmundson            0.5\n",
            "29939  Joel Edmundson            0.5\n",
            "\n",
            "[29940 rows x 2 columns]\n"
          ]
        }
      ],
      "source": [
        "default_weight = 0.5\n",
        "\n",
        "combined_data['player_weight'] = combined_data['Player'].map(player_weights).fillna(default_weight)\n",
        "\n",
        "print(combined_data[['Player', 'player_weight']])\n"
      ]
    },
    {
      "cell_type": "code",
      "execution_count": null,
      "metadata": {
        "id": "RA6rlUjUVx7g",
        "colab": {
          "base_uri": "https://localhost:8080/"
        },
        "outputId": "c33ba305-e393-4dec-f776-2bbea0f5fd74"
      },
      "outputs": [
        {
          "output_type": "stream",
          "name": "stdout",
          "text": [
            "Weight for Sidney Crosby: 0.94\n",
            "Weight for Nathan MacKinnon: 0.96\n"
          ]
        }
      ],
      "source": [
        "\n",
        "# weight for Sidney Crosby\n",
        "crosby_weight = player_weights.get('Sidney Crosby', \"Player not found\")\n",
        "\n",
        "# weight for Nathan MacKinnon\n",
        "mackinnon_weight = player_weights.get('Nathan MacKinnon', \"Player not found\")\n",
        "\n",
        "# Print the weights\n",
        "print(f\"Weight for Sidney Crosby: {crosby_weight}\")\n",
        "print(f\"Weight for Nathan MacKinnon: {mackinnon_weight}\")"
      ]
    },
    {
      "cell_type": "code",
      "execution_count": null,
      "metadata": {
        "id": "pZyYtGZqVx7g",
        "colab": {
          "base_uri": "https://localhost:8080/"
        },
        "outputId": "929f1b4c-2391-4b08-b40b-d133eb76d461"
      },
      "outputs": [
        {
          "output_type": "stream",
          "name": "stdout",
          "text": [
            "         date team team_opp  goals_scored  goals_scored_opp  shots_on_goal  \\\n",
            "0  2021-01-13  EDM      FLA         2.499                 5           33.0   \n",
            "1  2021-01-13  EDM      FLA         2.499                 5           33.0   \n",
            "2  2021-01-13  EDM      FLA         2.499                 5           33.0   \n",
            "3  2021-01-13  EDM      FLA         2.499                 5           33.0   \n",
            "4  2021-01-13  EDM      FLA         2.499                 5           33.0   \n",
            "\n",
            "   shots_on_goal_opp  power_play_goals  penalty_kill_goals  \\\n",
            "0              15.75               0.0                 0.0   \n",
            "1              15.75               0.0                 0.0   \n",
            "2              15.75               0.0                 0.0   \n",
            "3              15.75               0.0                 0.0   \n",
            "4              15.75               0.0                 0.0   \n",
            "\n",
            "   faceoff_win_percentage  ...  OffIce_A_xGoals  OffIce_F_shotAttempts  \\\n",
            "0                 17.8476  ...             3.56                     22   \n",
            "1                 17.8476  ...           104.20                   1819   \n",
            "2                 17.8476  ...            74.04                   1596   \n",
            "3                 17.8476  ...             0.00                      0   \n",
            "4                 17.8476  ...             1.08                    121   \n",
            "\n",
            "   OffIce_A_shotAttempts  xGoalsForAfterShifts  xGoalsAgainstAfterShifts  \\\n",
            "0                     36                  0.00                      0.00   \n",
            "1                   2098                  0.00                      0.00   \n",
            "2                   1633                  0.69                      0.94   \n",
            "3                      0                  0.00                      0.00   \n",
            "4                     18                  0.00                      0.26   \n",
            "\n",
            "   corsiForAfterShifts  corsiAgainstAfterShifts  fenwickForAfterShifts  \\\n",
            "0                    0                        0                      0   \n",
            "1                    0                        0                      0   \n",
            "2                   13                       28                     10   \n",
            "3                    0                        0                      0   \n",
            "4                    0                        2                      0   \n",
            "\n",
            "  fenwickAgainstAfterShifts player_weight  \n",
            "0                         0           0.5  \n",
            "1                         0           0.5  \n",
            "2                        19           0.5  \n",
            "3                         0           0.5  \n",
            "4                         2           0.5  \n",
            "\n",
            "[5 rows x 171 columns]\n"
          ]
        }
      ],
      "source": [
        "team_weights = {\n",
        "  'goals_scored': 0.833,\n",
        "  'shots_on_goal': 1.0,\n",
        "  'save_percentage': 0.667,\n",
        "  'faceoff_win_percentage': 0.417,\n",
        "  'power_play_goals': 1.0,\n",
        "  'power_play_opportunities': 0.917,\n",
        "  'shots_on_goal_opp': 0.75,\n",
        "  'penalty_kill_goals': 0.75\n",
        "}\n",
        "\n",
        "\n",
        "for col, weight in team_weights.items():\n",
        "  combined_data[col] = combined_data[col] * weight\n",
        "\n",
        "print(combined_data.head())\n"
      ]
    },
    {
      "cell_type": "code",
      "execution_count": null,
      "metadata": {
        "id": "sCU5H198Vx7g",
        "colab": {
          "base_uri": "https://localhost:8080/"
        },
        "outputId": "9258b10a-8108-4171-8aa1-e6caf0fc9c14"
      },
      "outputs": [
        {
          "output_type": "stream",
          "name": "stdout",
          "text": [
            "0        False\n",
            "1        False\n",
            "2        False\n",
            "3        False\n",
            "4        False\n",
            "         ...  \n",
            "29935    False\n",
            "29936    False\n",
            "29937    False\n",
            "29938    False\n",
            "29939    False\n",
            "Name: won, Length: 29940, dtype: bool\n"
          ]
        }
      ],
      "source": [
        "print(combined_data['won'])\n"
      ]
    },
    {
      "cell_type": "code",
      "execution_count": null,
      "metadata": {
        "id": "fgjLZTEJVx7h"
      },
      "outputs": [],
      "source": [
        "combined_data['won'] = combined_data['won'].astype(int)\n"
      ]
    },
    {
      "cell_type": "code",
      "execution_count": null,
      "metadata": {
        "id": "r9KrljzWVx7h",
        "colab": {
          "base_uri": "https://localhost:8080/"
        },
        "outputId": "7b96c1ab-ef2b-42c7-bdfd-53d9385ad784"
      },
      "outputs": [
        {
          "output_type": "stream",
          "name": "stdout",
          "text": [
            "0        0\n",
            "1        0\n",
            "2        0\n",
            "3        0\n",
            "4        0\n",
            "        ..\n",
            "29935    0\n",
            "29936    0\n",
            "29937    0\n",
            "29938    0\n",
            "29939    0\n",
            "Name: won, Length: 29940, dtype: int64\n"
          ]
        }
      ],
      "source": [
        "print(combined_data['won'])\n"
      ]
    },
    {
      "cell_type": "code",
      "execution_count": null,
      "metadata": {
        "id": "AAUadwXsVx7h",
        "colab": {
          "base_uri": "https://localhost:8080/"
        },
        "outputId": "443e546f-f599-40d6-a670-37baa2c09c40"
      },
      "outputs": [
        {
          "output_type": "stream",
          "name": "stdout",
          "text": [
            "0        0\n",
            "1        0\n",
            "2        0\n",
            "3        0\n",
            "4        0\n",
            "        ..\n",
            "29935    0\n",
            "29936    0\n",
            "29937    0\n",
            "29938    0\n",
            "29939    0\n",
            "Name: won, Length: 29940, dtype: int64\n"
          ]
        }
      ],
      "source": [
        "print(combined_data['won'])\n"
      ]
    },
    {
      "cell_type": "markdown",
      "metadata": {
        "id": "EANsMAhxVx7h"
      },
      "source": [
        "# Neural Network Feedforward Functional API"
      ]
    },
    {
      "cell_type": "code",
      "execution_count": null,
      "metadata": {
        "id": "RAhiR53eVx7i",
        "colab": {
          "base_uri": "https://localhost:8080/"
        },
        "outputId": "2f8024bb-5a84-46e7-bd46-8c5d0a990aa1"
      },
      "outputs": [
        {
          "output_type": "stream",
          "name": "stdout",
          "text": [
            "Model: \"model\"\n",
            "__________________________________________________________________________________________________\n",
            " Layer (type)                Output Shape                 Param #   Connected to                  \n",
            "==================================================================================================\n",
            " input_1 (InputLayer)        [(None, 9)]                  0         []                            \n",
            "                                                                                                  \n",
            " dense (Dense)               (None, 128)                  1280      ['input_1[0][0]']             \n",
            "                                                                                                  \n",
            " dropout (Dropout)           (None, 128)                  0         ['dense[0][0]']               \n",
            "                                                                                                  \n",
            " dense_1 (Dense)             (None, 64)                   8256      ['dropout[0][0]']             \n",
            "                                                                                                  \n",
            " dropout_1 (Dropout)         (None, 64)                   0         ['dense_1[0][0]']             \n",
            "                                                                                                  \n",
            " dense_2 (Dense)             (None, 32)                   2080      ['dropout_1[0][0]']           \n",
            "                                                                                                  \n",
            " input_2 (InputLayer)        [(None, 1)]                  0         []                            \n",
            "                                                                                                  \n",
            " concatenate (Concatenate)   (None, 33)                   0         ['dense_2[0][0]',             \n",
            "                                                                     'input_2[0][0]']             \n",
            "                                                                                                  \n",
            " dense_3 (Dense)             (None, 1)                    34        ['concatenate[0][0]']         \n",
            "                                                                                                  \n",
            "==================================================================================================\n",
            "Total params: 11650 (45.51 KB)\n",
            "Trainable params: 11650 (45.51 KB)\n",
            "Non-trainable params: 0 (0.00 Byte)\n",
            "__________________________________________________________________________________________________\n",
            "5988/5988 [==============================] - 11s 2ms/step - loss: 0.5699 - accuracy: 0.8231 - val_loss: 0.3706 - val_accuracy: 0.8921\n"
          ]
        },
        {
          "output_type": "execute_result",
          "data": {
            "text/plain": [
              "<keras.src.callbacks.History at 0x7f1232776dd0>"
            ]
          },
          "metadata": {},
          "execution_count": 17
        }
      ],
      "source": [
        "import tensorflow as tf\n",
        "from sklearn.model_selection import train_test_split\n",
        "from sklearn.preprocessing import StandardScaler\n",
        "from tensorflow.keras import regularizers\n",
        "\n",
        "# Extract features and target variable\n",
        "X = combined_data[['goals_scored', 'shots_on_goal', 'save_percentage', 'faceoff_win_percentage', 'power_play_goals', 'penalty_kill_goals', 'power_play_opportunities', 'shots_on_goal_opp', 'player_weight']]\n",
        "y = combined_data['won']  # Use the 'won' column as the target variable\n",
        "\n",
        "# Split the data into training and testing sets (80/20 split)\n",
        "X_train, X_test, y_train, y_test = train_test_split(X, y, test_size=0.2, random_state=42)\n",
        "\n",
        "# Data preprocessing\n",
        "scaler = StandardScaler()\n",
        "X_train_scaled = scaler.fit_transform(X_train)  # Scale the features\n",
        "X_test_scaled = scaler.transform(X_test)\n",
        "\n",
        "# Define the model architecture using the Functional API\n",
        "num_features = X_train_scaled.shape[1]\n",
        "\n",
        "input_layer = tf.keras.layers.Input(shape=(num_features,))\n",
        "hidden1 = tf.keras.layers.Dense(128, activation='relu', kernel_regularizer=regularizers.l2(0.5))(input_layer)\n",
        "dropout1 = tf.keras.layers.Dropout(0.3)(hidden1)\n",
        "hidden2 = tf.keras.layers.Dense(64, activation='relu')(dropout1)\n",
        "dropout2 = tf.keras.layers.Dropout(0.3)(hidden2)\n",
        "hidden3 = tf.keras.layers.Dense(32, activation='relu')(dropout2)\n",
        "player_weight_input = tf.keras.layers.Input(shape=(1,))\n",
        "merged = tf.keras.layers.Concatenate()([hidden3, player_weight_input])\n",
        "output_layer = tf.keras.layers.Dense(1, activation='sigmoid')(merged)\n",
        "\n",
        "model = tf.keras.models.Model(inputs=[input_layer, player_weight_input], outputs=output_layer)\n",
        "model.compile(optimizer='adam', loss='binary_crossentropy', metrics=['accuracy'])\n",
        "model.summary()\n",
        "\n",
        "# Train the model\n",
        "model.fit([X_train_scaled, X_train['player_weight']], y_train,\n",
        "          epochs=1, batch_size=4,\n",
        "          validation_data=([X_test_scaled, X_test['player_weight']], y_test))\n",
        "\n",
        "# Prediction\n",
        "# For new predictions, you would preprocess the new data (let's call it new_data) in the same way as X_train\n",
        "# Example:\n",
        "# new_data_scaled = scaler.transform(new_data_features)\n",
        "# predictions = model.predict([new_data_scaled, new_data_player_weight])\n"
      ]
    },
    {
      "cell_type": "code",
      "execution_count": null,
      "metadata": {
        "id": "lGDj6KUXVx7i"
      },
      "outputs": [],
      "source": [
        "import numpy as np\n"
      ]
    },
    {
      "cell_type": "code",
      "source": [
        "# Function to retrieve team data\n",
        "def get_team_data(team_name, combined_data):\n",
        "    # Filter the DataFrame for rows matching the team name\n",
        "    team_data_filtered = combined_data[(combined_data['team'] == team_name) | (combined_data['team_opp'] == team_name)]\n",
        "\n",
        "    if team_data_filtered.empty:\n",
        "        raise ValueError(f\"No data found for team: {team_name}\")\n",
        "\n",
        "    numeric_columns = ['goals_scored', 'shots_on_goal', 'save_percentage', 'faceoff_win_percentage', 'power_play_goals', 'power_play_opportunities', 'shots_on_goal_opp', 'penalty_kill_goals', 'player_weight']\n",
        "\n",
        "    team_data_numeric = team_data_filtered[numeric_columns]\n",
        "    team_data_mean = team_data_numeric.mean()\n",
        "    average_player_weight = combined_data[combined_data['Tm'] == team_name]['player_weight'].mean()\n",
        "    return team_data_mean, average_player_weight\n",
        "\n",
        "# Function to predict game outcome\n",
        "def predict_game_outcome(team1_name, team2_name, combined_data, scaler, model):\n",
        "    team1_data, team1_player_weight = get_team_data(team1_name, combined_data)\n",
        "    team2_data, team2_player_weight = get_team_data(team2_name, combined_data)\n",
        "\n",
        "    #preparing each teams features\n",
        "    features_team1 = np.array([team1_data])\n",
        "    features_team2 = np.array([team2_data])\n",
        "\n",
        "    # Scale features\n",
        "    features_team1_scaled = scaler.transform(features_team1)\n",
        "    features_team2_scaled = scaler.transform(features_team2)\n",
        "\n",
        "    # Reshape player weight for input\n",
        "    team1_weight = np.array([[team1_player_weight]])\n",
        "    team2_weight = np.array([[team2_player_weight]])\n",
        "\n",
        "    # Predict using the model\n",
        "    prediction_team1 = model.predict([features_team1_scaled, team1_weight])\n",
        "    prediction_team2 = model.predict([features_team2_scaled, team2_weight])\n",
        "\n",
        "    # Interpret the prediction\n",
        "    if prediction_team1[0] > 0.5:\n",
        "        winner = team1_name\n",
        "    else:\n",
        "        winner = team2_name\n",
        "\n",
        "    return f\"{winner} is predicted to win\"\n",
        "\n",
        "# input team you want a match prediction for\n",
        "team1 = input(\"Enter team one: \")\n",
        "team2 = input(\"Enter team two: \")\n",
        "\n",
        "prediction = predict_game_outcome(team1, team2, combined_data, scaler, model)\n",
        "print(prediction)"
      ],
      "metadata": {
        "id": "J2C65JZKnDAd",
        "colab": {
          "base_uri": "https://localhost:8080/"
        },
        "outputId": "91041051-571d-4c71-8c49-31514c4cd4c5"
      },
      "execution_count": null,
      "outputs": [
        {
          "output_type": "stream",
          "name": "stdout",
          "text": [
            "Enter team one: MTL\n",
            "Enter team two: BOS\n",
            "1/1 [==============================] - 0s 16ms/step\n",
            "1/1 [==============================] - 0s 14ms/step\n",
            "MTL is predicted to win\n"
          ]
        },
        {
          "output_type": "stream",
          "name": "stderr",
          "text": [
            "/usr/local/lib/python3.10/dist-packages/sklearn/base.py:439: UserWarning: X does not have valid feature names, but StandardScaler was fitted with feature names\n",
            "  warnings.warn(\n",
            "/usr/local/lib/python3.10/dist-packages/sklearn/base.py:439: UserWarning: X does not have valid feature names, but StandardScaler was fitted with feature names\n",
            "  warnings.warn(\n"
          ]
        }
      ]
    },
    {
      "cell_type": "code",
      "source": [],
      "metadata": {
        "id": "ixWmSo6KRiwb"
      },
      "execution_count": null,
      "outputs": []
    }
  ],
  "metadata": {
    "kernelspec": {
      "display_name": "test",
      "language": "python",
      "name": "python3"
    },
    "language_info": {
      "codemirror_mode": {
        "name": "ipython",
        "version": 3
      },
      "file_extension": ".py",
      "mimetype": "text/x-python",
      "name": "python",
      "nbconvert_exporter": "python",
      "pygments_lexer": "ipython3",
      "version": "3.8.18"
    },
    "colab": {
      "provenance": []
    }
  },
  "nbformat": 4,
  "nbformat_minor": 0
}